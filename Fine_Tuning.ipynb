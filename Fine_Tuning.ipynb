{
  "nbformat": 4,
  "nbformat_minor": 0,
  "metadata": {
    "colab": {
      "provenance": []
    },
    "kernelspec": {
      "name": "python3",
      "display_name": "Python 3"
    },
    "language_info": {
      "name": "python"
    }
  },
  "cells": [
    {
      "cell_type": "code",
      "execution_count": 1,
      "metadata": {
        "id": "gkI6T4rEk0Ma"
      },
      "outputs": [],
      "source": [
        "import os\n",
        "import cv2\n",
        "import numpy as np\n",
        "import tensorflow as tf\n",
        "from tensorflow.keras.applications import VGG16\n",
        "from tensorflow.keras.models import Model\n",
        "from tensorflow.keras.layers import Flatten, Dense, Dropout, GlobalAveragePooling2D\n",
        "from tensorflow.keras.optimizers import Adam\n",
        "from sklearn.model_selection import train_test_split\n"
      ]
    },
    {
      "cell_type": "code",
      "source": [],
      "metadata": {
        "id": "dXiZnfmflSAG"
      },
      "execution_count": null,
      "outputs": []
    },
    {
      "cell_type": "code",
      "source": [
        "# Set dataset path\n",
        "data_path = \"/content/drive/MyDrive/DATASET/IMBD WIKI\""
      ],
      "metadata": {
        "id": "1CDvTfevk5GW"
      },
      "execution_count": 5,
      "outputs": []
    },
    {
      "cell_type": "code",
      "source": [
        "def extract_age_from_filename(filename):\n",
        "    try:\n",
        "        parts = filename.split(\"_\")\n",
        "        birth_year = int(parts[2].split(\"-\")[0])  # Extract birth year\n",
        "        photo_year = int(parts[3].split(\".\")[0])  # Extract photo year\n",
        "        return photo_year - birth_year  # Compute age\n",
        "    except:\n",
        "        return None\n",
        "\n",
        "def load_data(data_path, img_size=(224, 224)):\n",
        "    images = []\n",
        "    ages = []\n",
        "    for filename in os.listdir(data_path):\n",
        "        img_path = os.path.join(data_path, filename)\n",
        "        if filename.endswith(\".jpg\"):\n",
        "            age = extract_age_from_filename(filename)\n",
        "            if age is not None:\n",
        "                try:\n",
        "                    img = cv2.imread(img_path)\n",
        "                    img = cv2.resize(img, img_size)\n",
        "                    img = img / 255.0  # Normalize\n",
        "                    images.append(img)\n",
        "                    ages.append(age)\n",
        "                except:\n",
        "                    continue\n",
        "    return np.array(images), np.array(ages)"
      ],
      "metadata": {
        "id": "ff0HbOxilA2C"
      },
      "execution_count": 6,
      "outputs": []
    },
    {
      "cell_type": "code",
      "source": [
        "\n",
        "# Load images and labels\n",
        "X, y = load_data(data_path)"
      ],
      "metadata": {
        "id": "B6BEugAvlECH"
      },
      "execution_count": 7,
      "outputs": []
    },
    {
      "cell_type": "code",
      "source": [
        "# Split dataset\n",
        "X_train, X_test, y_train, y_test = train_test_split(X, y, test_size=0.2, random_state=42)\n"
      ],
      "metadata": {
        "id": "JVCpdTUwlGdh"
      },
      "execution_count": 8,
      "outputs": []
    },
    {
      "cell_type": "code",
      "source": [
        "\n",
        "# Load pre-trained VGG16 model (excluding top layers)\n",
        "base_model = VGG16(weights='imagenet', include_top=False, input_shape=(224, 224, 3))"
      ],
      "metadata": {
        "colab": {
          "base_uri": "https://localhost:8080/"
        },
        "id": "TMOpyIXAl9kh",
        "outputId": "83a489e8-b3ec-4c10-c402-e38af2efc53a"
      },
      "execution_count": 9,
      "outputs": [
        {
          "output_type": "stream",
          "name": "stdout",
          "text": [
            "Downloading data from https://storage.googleapis.com/tensorflow/keras-applications/vgg16/vgg16_weights_tf_dim_ordering_tf_kernels_notop.h5\n",
            "\u001b[1m58889256/58889256\u001b[0m \u001b[32m━━━━━━━━━━━━━━━━━━━━\u001b[0m\u001b[37m\u001b[0m \u001b[1m1s\u001b[0m 0us/step\n"
          ]
        }
      ]
    },
    {
      "cell_type": "code",
      "source": [
        "\n",
        "# Add custom layers for regression\n",
        "x = base_model.output\n",
        "x = GlobalAveragePooling2D()(x)\n",
        "x = Dense(128, activation='relu')(x)\n",
        "x = Dropout(0.5)(x)\n",
        "x = Dense(1)(x)  # Regression output"
      ],
      "metadata": {
        "id": "_GHzexFQmArE"
      },
      "execution_count": 10,
      "outputs": []
    },
    {
      "cell_type": "code",
      "source": [
        "# Define final model\n",
        "model = Model(inputs=base_model.input, outputs=x)"
      ],
      "metadata": {
        "id": "dZQDqYHrmD8k"
      },
      "execution_count": 11,
      "outputs": []
    },
    {
      "cell_type": "code",
      "source": [
        "# Compile model\n",
        "model.compile(optimizer=Adam(learning_rate=0.001), loss='mse', metrics=['mae'])"
      ],
      "metadata": {
        "id": "9tH054sdmFqT"
      },
      "execution_count": 12,
      "outputs": []
    },
    {
      "cell_type": "code",
      "source": [
        "# Save model\n",
        "model.save(\"fine_tuned_age_detection_model.h5\")"
      ],
      "metadata": {
        "colab": {
          "base_uri": "https://localhost:8080/"
        },
        "id": "_fGnmDPomHpB",
        "outputId": "1118e142-b0db-4441-ef99-e5b76e38bcc9"
      },
      "execution_count": 13,
      "outputs": [
        {
          "output_type": "stream",
          "name": "stderr",
          "text": [
            "WARNING:absl:You are saving your model as an HDF5 file via `model.save()` or `keras.saving.save_model(model)`. This file format is considered legacy. We recommend using instead the native Keras format, e.g. `model.save('my_model.keras')` or `keras.saving.save_model(model, 'my_model.keras')`. \n"
          ]
        }
      ]
    },
    {
      "cell_type": "code",
      "source": [
        "print(\"Fine-tuned model training complete and saved.\")"
      ],
      "metadata": {
        "colab": {
          "base_uri": "https://localhost:8080/"
        },
        "id": "iVO_1yQcmJRF",
        "outputId": "d789899b-3562-40ce-8193-2741bfe2bec6"
      },
      "execution_count": 14,
      "outputs": [
        {
          "output_type": "stream",
          "name": "stdout",
          "text": [
            "Fine-tuned model training complete and saved.\n"
          ]
        }
      ]
    },
    {
      "cell_type": "code",
      "source": [],
      "metadata": {
        "id": "SKV78apQmLhv"
      },
      "execution_count": null,
      "outputs": []
    }
  ]
}